{
 "cells": [
  {
   "cell_type": "code",
   "execution_count": null,
   "metadata": {
    "collapsed": true
   },
   "outputs": [],
   "source": [
    "import random\n",
    "\n",
    "class Solitaire(object):\n",
    "    def __init__(self):\n",
    "        self.cards = list(range(13)) * 4\n",
    "        self.winner = False\n",
    "        self.discards = []\n",
    "\n",
    "    def __shuffle(self):\n",
    "        # TASK: Complete this function\n",
    "        pass\n",
    "\n",
    "    def __deal(self):\n",
    "        self.__shuffle()\n",
    "        clockFace = {}\n",
    "        self.clockFace = clockFace\n",
    "        # TASK: Complete this function\n",
    "\n",
    "\n",
    "    def play(self):\n",
    "        self.winner = False\n",
    "        self.discards = []\n",
    "        self.__deal()\n",
    "        # TASK: Complete this function\n"
   ]
  }
 ],
 "metadata": {
  "kernelspec": {
   "display_name": "Python 3",
   "language": "python",
   "name": "python3"
  },
  "language_info": {
   "codemirror_mode": {
    "name": "ipython",
    "version": 3
   },
   "file_extension": ".py",
   "mimetype": "text/x-python",
   "name": "python",
   "nbconvert_exporter": "python",
   "pygments_lexer": "ipython3",
   "version": "3.5.2"
  }
 },
 "nbformat": 4,
 "nbformat_minor": 0
}
