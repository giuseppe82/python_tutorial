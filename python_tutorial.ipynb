{
 "cells": [
  {
   "cell_type": "markdown",
   "metadata": {
    "collapsed": false
   },
   "source": [
    "# An Introduction to Programming with Python\n",
    "\n",
    "## 1. Types and Variables\n",
    "### 1.1 Variables\n",
    "Variables allow you to assign names to values. You can update and combine variables.\n",
    "\n"
   ]
  },
  {
   "cell_type": "code",
   "execution_count": 35,
   "metadata": {
    "collapsed": false
   },
   "outputs": [
    {
     "name": "stdout",
     "output_type": "stream",
     "text": [
      "Small:  5\n",
      "Big:  500\n",
      "Bigger:  505\n",
      "Updated value:  2500\n"
     ]
    }
   ],
   "source": [
    "# define two variables, called small and big\n",
    "small = 5\n",
    "big = 500\n",
    "\n",
    "# define a third variable\n",
    "bigger = small + big\n",
    "\n",
    "# print the values of those variables\n",
    "print(\"Small: \", small)\n",
    "print(\"Big: \", big)\n",
    "print(\"Bigger: \", bigger)\n",
    "\n",
    "# update the value of the variable\n",
    "bigger = small * big\n",
    "print(\"Updated value: \", bigger)\n",
    "\n",
    "# TASK: Define some more variables. What happens to the value of bigger if you change the value of big?"
   ]
  },
  {
   "cell_type": "markdown",
   "metadata": {},
   "source": [
    "### 1.2 Basic Types: Ints, Floats and Strings\n",
    "\n",
    "Python supports different types, with different properties. Numerical values are typically stored as Ints or Floats. Ints are whole numbers. Floats can be fractional.\n"
   ]
  },
  {
   "cell_type": "code",
   "execution_count": 72,
   "metadata": {
    "collapsed": false
   },
   "outputs": [
    {
     "name": "stdout",
     "output_type": "stream",
     "text": [
      "2500 0.01 31250000000000 0\n",
      "<class 'int'> <class 'float'> <class 'int'> <class 'int'>\n",
      "False\n"
     ]
    }
   ],
   "source": [
    "# Ints and Floats\n",
    "# Both types support typical mathematical operations\n",
    "v1 = small * big   # multiplication\n",
    "v2 = small / big   # division\n",
    "v3 = big ** small  # exponentiation\n",
    "v4 = big % small   # what does this do?\n",
    "\n",
    "\n",
    "print(v1, v2, v3, v4)\n",
    "print(type(v1), type(v2), type(v3), type(v4))\n",
    "\n",
    "# test for equality between variables using ==\n",
    "print(v1 == v2)"
   ]
  },
  {
   "cell_type": "markdown",
   "metadata": {},
   "source": [
    "A string is a sequence of characters -- typically used for words, letters and data read from files etc.\n",
    "\n",
    "Strings can be indexed and sliced, to get substrings."
   ]
  },
  {
   "cell_type": "code",
   "execution_count": 40,
   "metadata": {
    "collapsed": false
   },
   "outputs": [],
   "source": [
    "# Strings are enclosed in quotation marks:\n",
    "s1 = \"Hello!\"\n",
    "s2 = \"5\"\n",
    "\n",
    "# indexing\n",
    "# Note that indexing starts from 0 (the 0th element of the list ...)\n",
    "s3 = s1[0]\n",
    "\n",
    "# slicing\n",
    "s4 = s1[1:4]\n",
    "\n",
    "# concatenating\n",
    "s5 = s4 + s2\n",
    "\n",
    "# TASK: What are the values of s3, s4 and s5?\n",
    "# Print them out - were you correct?"
   ]
  },
  {
   "cell_type": "markdown",
   "metadata": {},
   "source": [
    "You can cast variables to different types as necessary, using `str()`, `int()` etc.  "
   ]
  },
  {
   "cell_type": "code",
   "execution_count": 39,
   "metadata": {
    "collapsed": false
   },
   "outputs": [
    {
     "ename": "TypeError",
     "evalue": "unsupported operand type(s) for +: 'int' and 'str'",
     "output_type": "error",
     "traceback": [
      "\u001b[0;31m---------------------------------------------------------------------------\u001b[0m",
      "\u001b[0;31mTypeError\u001b[0m                                 Traceback (most recent call last)",
      "\u001b[0;32m<ipython-input-39-f86d994ccb1e>\u001b[0m in \u001b[0;36m<module>\u001b[0;34m()\u001b[0m\n\u001b[1;32m      1\u001b[0m \u001b[0;31m# TASK: How do you convert from a string to integer? To a float?\u001b[0m\u001b[0;34m\u001b[0m\u001b[0;34m\u001b[0m\u001b[0m\n\u001b[1;32m      2\u001b[0m \u001b[0;34m\u001b[0m\u001b[0m\n\u001b[0;32m----> 3\u001b[0;31m \u001b[0mv5\u001b[0m \u001b[0;34m=\u001b[0m \u001b[0mv4\u001b[0m \u001b[0;34m+\u001b[0m \u001b[0ms2\u001b[0m\u001b[0;34m\u001b[0m\u001b[0m\n\u001b[0m\u001b[1;32m      4\u001b[0m \u001b[0mprint\u001b[0m\u001b[0;34m(\u001b[0m\u001b[0mv5\u001b[0m\u001b[0;34m)\u001b[0m\u001b[0;34m\u001b[0m\u001b[0m\n\u001b[1;32m      5\u001b[0m \u001b[0;31m# TASK: Why doesn't this work?\u001b[0m\u001b[0;34m\u001b[0m\u001b[0;34m\u001b[0m\u001b[0m\n",
      "\u001b[0;31mTypeError\u001b[0m: unsupported operand type(s) for +: 'int' and 'str'"
     ]
    }
   ],
   "source": [
    "# TASK: How do you convert from a string to integer? To a float?\n",
    "\n",
    "v5 = v4 + s2\n",
    "print(v5)\n",
    "# TASK: Why doesn't this work?\n",
    "# TASK: How might you fix it? How else?"
   ]
  },
  {
   "cell_type": "markdown",
   "metadata": {},
   "source": [
    "### 1.3 Container Types: Lists and Tuples\n",
    "So far, we have looked at individual items. However, Python also supports container items that can hold multiple individual items. Two common ones are lists and tuples. Lists are mutable (can be changed), but tuples are immutable (cannot be changed).\n",
    "\n",
    "Lists can be indexed and sliced like strings:"
   ]
  },
  {
   "cell_type": "code",
   "execution_count": 41,
   "metadata": {
    "collapsed": false
   },
   "outputs": [
    {
     "name": "stdout",
     "output_type": "stream",
     "text": [
      "1 5 5\n",
      "[2, 3, 4]\n",
      "[1, 2, 3, 4, 40]\n"
     ]
    }
   ],
   "source": [
    "numbers = [1, 2, 3, 4, 5]\n",
    "\n",
    "# indexing the list\n",
    "print(numbers[0], numbers[4], numbers[-1])\n",
    "\n",
    "# slicing the list\n",
    "subset = numbers[1:4]\n",
    "print(subset)\n",
    "\n",
    "# updating the value of an item in the list:\n",
    "numbers[4] = 40\n",
    "print(numbers)\n"
   ]
  },
  {
   "cell_type": "markdown",
   "metadata": {},
   "source": [
    "Lists can have items added and removed. They can also be nested:"
   ]
  },
  {
   "cell_type": "code",
   "execution_count": 42,
   "metadata": {
    "collapsed": false
   },
   "outputs": [
    {
     "name": "stdout",
     "output_type": "stream",
     "text": [
      "1\n",
      "[2, 3, 4, 40]\n",
      "[2, 3, 4, 40, 40]\n",
      "[[1, 2, 3, 4, 5], [6, 7, 8, 9, 10], [1, 3, 5, 7, 9]]\n",
      "1\n"
     ]
    }
   ],
   "source": [
    "# remove the first item from the list:\n",
    "n1 = numbers.pop(0)\n",
    "print(n1)\n",
    "print(numbers)\n",
    "\n",
    "# adding an item to the end of the list\n",
    "numbers.append(40)\n",
    "print(numbers)\n",
    "\n",
    "# Can you add a string to the end of the list?\n",
    "# How can you add an element to the middle of the list? (Google ...)\n",
    "\n",
    "# making a nested list\n",
    "nested_numbers = [[1, 2, 3, 4, 5], [6, 7, 8, 9, 10], [1, 3, 5, 7, 9]]\n",
    "\n",
    "# you can index a nested list:\n",
    "print(nested_numbers)\n",
    "print(nested_numbers[2][0]) # the first element of the third list\n",
    "\n",
    "# TASK: Get the second element of the first list in nested_numbers and assign it to a variable.\n",
    "# TASK: Add an element to the end of the second list in nested_numbers\n"
   ]
  },
  {
   "cell_type": "code",
   "execution_count": 43,
   "metadata": {
    "collapsed": false
   },
   "outputs": [],
   "source": [
    "# Tuples are similar to lists, but are immutable. You can't update them once they have been created\n",
    "more_numbers = (1, 2, 3, 4, 5)\n",
    "\n",
    "# Slicing and indexing is fine:\n",
    "# TASK: Try it ...\n"
   ]
  },
  {
   "cell_type": "code",
   "execution_count": 44,
   "metadata": {
    "collapsed": false
   },
   "outputs": [
    {
     "ename": "TypeError",
     "evalue": "'tuple' object does not support item assignment",
     "output_type": "error",
     "traceback": [
      "\u001b[0;31m---------------------------------------------------------------------------\u001b[0m",
      "\u001b[0;31mTypeError\u001b[0m                                 Traceback (most recent call last)",
      "\u001b[0;32m<ipython-input-44-dbbc3b25d425>\u001b[0m in \u001b[0;36m<module>\u001b[0;34m()\u001b[0m\n\u001b[1;32m      1\u001b[0m \u001b[0;31m# Updates do not work:\u001b[0m\u001b[0;34m\u001b[0m\u001b[0;34m\u001b[0m\u001b[0m\n\u001b[0;32m----> 2\u001b[0;31m \u001b[0mmore_numbers\u001b[0m\u001b[0;34m[\u001b[0m\u001b[0;36m1\u001b[0m\u001b[0;34m]\u001b[0m \u001b[0;34m=\u001b[0m \u001b[0;36m5\u001b[0m\u001b[0;34m\u001b[0m\u001b[0m\n\u001b[0m",
      "\u001b[0;31mTypeError\u001b[0m: 'tuple' object does not support item assignment"
     ]
    }
   ],
   "source": [
    "# Updates do not work:\n",
    "more_numbers[1] = 5"
   ]
  },
  {
   "cell_type": "code",
   "execution_count": 45,
   "metadata": {
    "collapsed": false
   },
   "outputs": [
    {
     "name": "stdout",
     "output_type": "stream",
     "text": [
      "[0, 2, 4, 6, 8]\n"
     ]
    }
   ],
   "source": [
    "# The built-in range function can be used to make lists of numbers:\n",
    "range_1 = list(range(10))\n",
    "range_2 = list(range(0, 10, 2))\n",
    "print(range_2)\n",
    "\n",
    "# TASK: Use the range() function to make a list of the numbers from 100 to -100 in steps of 5\n",
    "# TASK: How do you reverse the order of items in a list? Google it ..."
   ]
  },
  {
   "cell_type": "markdown",
   "metadata": {},
   "source": [
    "### 1.4 Container Types: Dictionaries\n",
    "A dictionary is an unordered set of key-value pairs. It is a very powerful tool that is used extensively in python programs. Each key in the dictionary must be unique. Values can be updated and key-value pairs can be deleted."
   ]
  },
  {
   "cell_type": "code",
   "execution_count": 46,
   "metadata": {
    "collapsed": false,
    "scrolled": true
   },
   "outputs": [
    {
     "name": "stdout",
     "output_type": "stream",
     "text": [
      "dict_keys(['Alice', 'Bob', 'Eve'])\n",
      "dict_values([40, 25, 63])\n",
      "40\n"
     ]
    }
   ],
   "source": [
    "# Defining a simple dictionary\n",
    "exam_scores = {\"Alice\": 40, \"Bob\": 25, \"Eve\": 63}\n",
    "\n",
    "# adding a new key-value pair:\n",
    "exam_scores[\"Claire\"] = 56\n",
    "\n",
    "# and deleting it:\n",
    "del exam_scores[\"Claire\"]\n",
    "\n",
    "# accessing the keys and the values\n",
    "print(exam_scores.keys())\n",
    "print(exam_scores.values())\n",
    "\n",
    "# looking up scores:\n",
    "print(exam_scores[\"Alice\"])\n",
    "\n",
    "# TASK: Alice retakes the exam and scores 59. \n",
    "# Update the exam_scores dictionary with the new score\n",
    "# Try to add the key [\"Claire\", \"Daniel\"] to exam_scores. What happens? What does that mean (Google ...)?"
   ]
  },
  {
   "cell_type": "markdown",
   "metadata": {},
   "source": [
    "## 2. Functions\n",
    "\n",
    "Functions are defined, modular, reusable pieces of code.\n",
    "\n",
    "Python has some built-in functions -- like `range()` -- but you can also define your own functions, using the `def` keyword.\n",
    "\n",
    "### 2.1 Built-in Functions"
   ]
  },
  {
   "cell_type": "code",
   "execution_count": 47,
   "metadata": {
    "collapsed": false
   },
   "outputs": [],
   "source": [
    "# Python has several built-in functions\n",
    "# TASK: Find the Python documentation for its built-in fucntions\n",
    "# TASK: Try out the min() and max() built in functions. What arguments do they take? "
   ]
  },
  {
   "cell_type": "markdown",
   "metadata": {},
   "source": [
    "### 2.2 Defining your own functions\n",
    "\n",
    "You can define your own functions using the keyword `def`. \n",
    "\n",
    "Rule of thumb: write a function when you need to do something more than one time.\n",
    "\n",
    "A function takes arguments. Order matters. Keyword arguments can be given default values"
   ]
  },
  {
   "cell_type": "code",
   "execution_count": 48,
   "metadata": {
    "collapsed": false
   },
   "outputs": [
    {
     "name": "stdout",
     "output_type": "stream",
     "text": [
      "4 9\n"
     ]
    }
   ],
   "source": [
    "# A function that adds 5:\n",
    "def addFive(x):\n",
    "    # x is the argument\n",
    "    return x + 5\n",
    "\n",
    "# A function that adds n\n",
    "def addN(x, n):\n",
    "    return x + n\n",
    "\n",
    "# Using a keyword argument provides a default value for the argument\n",
    "def add(x, n=5):\n",
    "    return x + n\n",
    "\n",
    "# Calling the function\n",
    "v1 = 4\n",
    "v2 = addFive(v1)\n",
    "print(v1, v2)\n",
    "\n",
    "# TASK: Call these functions using various different variables\n",
    "# TASK: Define a function that raises the argument to the power of 3\n",
    "# TASK: Define a function that raises an argument to the power of n\n"
   ]
  },
  {
   "cell_type": "markdown",
   "metadata": {},
   "source": [
    "## 3. Control Flow\n",
    "\n",
    "The control flow of a program is the order in which statements are executed within that program.\n",
    "\n",
    "### 3.1 Loops: For and While\n",
    "Loops control how many times a piece of code is executed and what it is executed on. There is considerable flexibility in how these constructs can be used. Here are some examples:"
   ]
  },
  {
   "cell_type": "code",
   "execution_count": 69,
   "metadata": {
    "collapsed": false
   },
   "outputs": [
    {
     "name": "stdout",
     "output_type": "stream",
     "text": [
      "A cat is an animal\n",
      "A pig is an animal\n",
      "A dog is an animal\n",
      "A cat is a mammal\n",
      "A shark is a fish\n",
      "A crow is a bird\n"
     ]
    }
   ],
   "source": [
    "# Iterating through items in a list or a dictionary:\n",
    "animals = [\"cat\", \"pig\", \"dog\"]\n",
    "for animal in animals:\n",
    "    print(\"A {} is an animal\".format(animal))\n",
    "    \n",
    "animalTypes = {\"cat\": \"mammal\", \"crow\": \"bird\", \"shark\": \"fish\"}\n",
    "for (animal, category) in animalTypes.items():\n",
    "    print(\"A {} is a {}\".format(animal, category))\n",
    "    "
   ]
  },
  {
   "cell_type": "code",
   "execution_count": 70,
   "metadata": {
    "collapsed": false
   },
   "outputs": [
    {
     "name": "stdout",
     "output_type": "stream",
     "text": [
      "0 0\n",
      "1 1\n",
      "2 3\n",
      "3 6\n",
      "4 10\n",
      "5 15\n",
      "6 21\n",
      "7 28\n",
      "8 36\n",
      "9 45\n"
     ]
    }
   ],
   "source": [
    "# Executing a statement a fixed number of times:\n",
    "total = 0\n",
    "for i in range(10): # note the use of the built in range() function\n",
    "    total += i\n",
    "    print(i, total)\n",
    "    "
   ]
  },
  {
   "cell_type": "code",
   "execution_count": 71,
   "metadata": {
    "collapsed": false
   },
   "outputs": [
    {
     "name": "stdout",
     "output_type": "stream",
     "text": [
      "[1, 4, 9, 16, 25]\n"
     ]
    }
   ],
   "source": [
    "# Doing something to each item in a list\n",
    "numbers = [1, 2, 3, 4, 5]\n",
    "for i in range(len(numbers)):\n",
    "    numbers[i] = numbers[i]**2\n",
    "print(numbers)"
   ]
  },
  {
   "cell_type": "code",
   "execution_count": 52,
   "metadata": {
    "collapsed": false
   },
   "outputs": [
    {
     "name": "stdout",
     "output_type": "stream",
     "text": [
      "0 0\n",
      "1 0\n",
      "2 1\n",
      "3 3\n",
      "4 6\n",
      "5 10\n",
      "6 15\n",
      "7 21\n",
      "8 28\n",
      "9 36\n",
      "10 45\n",
      "11 55\n",
      "12 66\n",
      "13 78\n",
      "14 91\n"
     ]
    }
   ],
   "source": [
    "total = 0\n",
    "value = 0\n",
    "while total < 100:\n",
    "    print(value, total)\n",
    "    total += value\n",
    "    value += 1"
   ]
  },
  {
   "cell_type": "code",
   "execution_count": 53,
   "metadata": {
    "collapsed": true
   },
   "outputs": [],
   "source": [
    "# Beware the infinite loop:\n",
    "#while True:\n",
    "#    print(\"Still true!\") # maybe don't run this one ..."
   ]
  },
  {
   "cell_type": "markdown",
   "metadata": {},
   "source": [
    "### 3.2 Control statements: if else and elif\n",
    "Control statements are used to switch the flow of the program, based on some state. Here are some examples:"
   ]
  },
  {
   "cell_type": "code",
   "execution_count": 54,
   "metadata": {
    "collapsed": false
   },
   "outputs": [
    {
     "name": "stdout",
     "output_type": "stream",
     "text": [
      "0 3\n",
      "1 1\n",
      "2 2\n",
      "3 4\n",
      "4 4\n",
      "5 8\n",
      "6 7\n",
      "7 7\n",
      "8 8\n",
      "9 10\n",
      "[3, 1, 2, 4, 4, 8, 7, 7, 8, 10]\n"
     ]
    }
   ],
   "source": [
    "# Checking conditions\n",
    "values = []\n",
    "for v in range(10):\n",
    "    if v % 5 == 0:\n",
    "        newValue = add(v, n=3)\n",
    "    elif v % 3 == 0:\n",
    "        newValue = add(v, n=1)\n",
    "    else:\n",
    "        newValue = v\n",
    "    print(v, newValue)\n",
    "    values.append(newValue)\n",
    "print(values)"
   ]
  },
  {
   "cell_type": "code",
   "execution_count": 55,
   "metadata": {
    "collapsed": false
   },
   "outputs": [
    {
     "name": "stdout",
     "output_type": "stream",
     "text": [
      "The zoo has 10 Monkeys.\n",
      "The zoo has 0 Lions.\n",
      "The zoo has 4 Tigers.\n"
     ]
    }
   ],
   "source": [
    "# Checking if an item is present\n",
    "zooCounts = {\"Pandas\": 2, \"Tigers\": 4, \"Monkeys\": 10}\n",
    "animals = [\"Monkeys\", \"Lions\", \"Tigers\"]\n",
    "for animal in animals:\n",
    "    if animal in zooCounts:\n",
    "        total = zooCounts[animal]\n",
    "    else:\n",
    "        total = 0\n",
    "    print(\"The zoo has {} {}.\".format(total, animal))"
   ]
  },
  {
   "cell_type": "code",
   "execution_count": 56,
   "metadata": {
    "collapsed": false
   },
   "outputs": [
    {
     "name": "stdout",
     "output_type": "stream",
     "text": [
      "Alice {'Computing': 75, 'Math': 40, 'Science': 80}\n",
      "Bob {'French': 44, 'Math': 60, 'Science': 28}\n",
      "Eve {'Computing': 65, 'French': 65, 'Math': 90, 'Science': 70}\n",
      "(0, None)\n"
     ]
    }
   ],
   "source": [
    "examScores = {}\n",
    "examScores[\"Alice\"] = {\"Math\": 40, \"Science\": 80, \"Computing\": 75}\n",
    "examScores[\"Bob\"] = {\"Math\": 60, \"Science\": 28, \"French\": 44}\n",
    "examScores[\"Eve\"] = {\"Math\": 90, \"Science\": 70, \"Computing\": 65, \"French\": 65}\n",
    "\n",
    "# TASK: complete the definition of this function that retrieves the highest scoring student for a specified subject\n",
    "def getBestScore(studentScores, subject=\"Math\"):\n",
    "    bestScore = 0\n",
    "    bestStudent = None\n",
    "    for student, scores in studentScores.items():\n",
    "        print(student, scores)\n",
    "        # Fill in some code here to get the correct score and student\n",
    "        # Strategy: Check that the required subject was taken by the student\n",
    "        # If it is present, compare the score with the current value of bestScore\n",
    "        # If necessary, update the values of the bestScore and bestStudent variables\n",
    "    return bestScore, bestStudent\n",
    "\n",
    "print(getBestScore(examScores))"
   ]
  },
  {
   "cell_type": "code",
   "execution_count": 57,
   "metadata": {
    "collapsed": true
   },
   "outputs": [],
   "source": [
    "# TASK: Complete this similar function to identify the highest scoring subject for a specified student:\n",
    "def getBestSubject(studentScores, student):\n",
    "    pass"
   ]
  },
  {
   "cell_type": "markdown",
   "metadata": {},
   "source": [
    "## 4. Modules\n",
    "One of the major strengths of Python is that, in addition to the core python language, there are thousands of additional modules that do extra things in more specialised areas. In Scientific programming and Data Science, some of the most commonly used python modules are:\n",
    "\n",
    "* [Numpy](http://www.numpy.org/): Numerical programming\n",
    "\n",
    "* [Scipy](https://www.scipy.org/): Lots of scientific functions\n",
    "\n",
    "* [Matplotlib](http://matplotlib.org/): Plots and graphs\n",
    "\n",
    "* [Scikit-learn](http://scikit-learn.org/stable/): Machine learning\n",
    "\n",
    "* [Pandas](http://pandas.pydata.org/): Easy data manipulation\n",
    "\n",
    "If you are using the [Anaconda](https://www.continuum.io/downloads) distribution of python, you should have most of these installed already.\n",
    "\n",
    "Once you have a module installed, you can use `import` to include its functions or objects in your code."
   ]
  },
  {
   "cell_type": "code",
   "execution_count": 68,
   "metadata": {
    "collapsed": false
   },
   "outputs": [
    {
     "name": "stdout",
     "output_type": "stream",
     "text": [
      "[3 4 5 6 7]\n",
      "[ 1  4  9 16 25]\n",
      "[ 4.14159265  5.14159265  6.14159265  7.14159265  8.14159265]\n"
     ]
    },
    {
     "data": {
      "image/png": "[encoded data removed]",
      "text/plain": [
       "<matplotlib.figure.Figure at 0x10fbcee80>"
      ]
     },
     "metadata": {},
     "output_type": "display_data"
    }
   ],
   "source": [
    "import numpy as np\n",
    "\n",
    "# A numpy array is a very useful object\n",
    "x = np.array([1,2,3,4,5])\n",
    "x2 = x + 2\n",
    "x3 = x ** 2\n",
    "print(x2)\n",
    "print(x3)\n",
    "\n",
    "from math import pi\n",
    "x4 = x + pi\n",
    "print(x4)\n",
    "\n",
    "from matplotlib import pyplot as plt\n",
    "plt.xkcd() # just because ...\n",
    "plt.scatter(x, x4, c=\"r\", label=\"plus pi\")\n",
    "plt.scatter(x, x3, c=\"b\", label=\"square\")\n",
    "plt.legend(loc=\"upper left\")\n",
    "plt.show()"
   ]
  },
  {
   "cell_type": "code",
   "execution_count": null,
   "metadata": {
    "collapsed": true
   },
   "outputs": [],
   "source": []
  }
 ],
 "metadata": {
  "kernelspec": {
   "display_name": "Python 3",
   "language": "python",
   "name": "python3"
  },
  "language_info": {
   "codemirror_mode": {
    "name": "ipython",
    "version": 3
   },
   "file_extension": ".py",
   "mimetype": "text/x-python",
   "name": "python",
   "nbconvert_exporter": "python",
   "pygments_lexer": "ipython3",
   "version": "3.5.2"
  }
 },
 "nbformat": 4,
 "nbformat_minor": 0
}
