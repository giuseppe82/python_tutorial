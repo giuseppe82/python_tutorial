{
 "cells": [
  {
   "cell_type": "markdown",
   "metadata": {},
   "source": [
    "# Data Analysis\n",
    "\n",
    "## Overview\n",
    "\n",
    "As a scientist and programmer, you will do a lot of data analysis. Reading data into your programs, plotting it, manipulating it, fitting it etc. This task implements a simple end-to-end analysis of some data. You will read data from a csv file and then plot the two-dimensional frequency distribution.\n",
    "\n",
    "The end result should be an image that looks something like this:\n",
    "![alt text](https://raw.githubusercontent.com/rebeccaroisin/python_tutorial/master/plot.png \"Plot\")\n",
    "\n",
    "\n",
    "## Task\n",
    "\n",
    "The file `data.csv` contains 10000 observations of two variables x1 and x2. We would like to understand how the values of these two variables are distributed, by plotting a two-dimensional frequency distribution.\n",
    "\n",
    "Completing this task has two parts. \n",
    "\n",
    "1. The function **readFile** uses the python [csv](https://docs.python.org/3.5/library/csv.html) module to read values from the csv file into two lists, for the variables x1 and x2. You should complete this function, so that the correct values are added to the two lists.\n",
    "\n",
    "2. The function **getFrequencyCounts** creates a two dimensional array of zeroes. You should complete this function so that it iterates through the values of x1 and x2, counts how many times each pair of values occurs and updates the corresponding entry in the 2D array."
   ]
  },
  {
   "cell_type": "code",
   "execution_count": 10,
   "metadata": {
    "collapsed": false
   },
   "outputs": [
    {
     "data": {
      "image/png": "[encoded data removed]",
      "text/plain": [
       "<matplotlib.figure.Figure at 0x10d0f77b8>"
      ]
     },
     "metadata": {},
     "output_type": "display_data"
    }
   ],
   "source": [
    "import numpy as np\n",
    "import matplotlib.pyplot as plt\n",
    "import csv\n",
    "\n",
    "def readFile(fl):\n",
    "    x1 = []\n",
    "    x2 = []\n",
    "    with open(fl, \"r\") as f:\n",
    "        reader = csv.reader(f)\n",
    "        for row in reader:\n",
    "            # TASK: How does the csv reader work? Google it to find out. \n",
    "            # TASK: read the values of x and y into the lists\n",
    "            # print(row)\n",
    "            pass\n",
    "    return x1, x2\n",
    "\n",
    "\n",
    "def getFrequencyCounts(x1, x2):\n",
    "    # Set up a two-dimensional array to hold frequency counts\n",
    "    heatmapMatrix = np.zeros((1000, 1000)) # Is this a sensible size\n",
    "\n",
    "    # TASK: increment the correct index of the heatmapMatrix for the values of i and j\n",
    "    # HINT: What does zip do? Google it to find out.\n",
    "    \n",
    "    return heatmapMatrix\n",
    "\n",
    "\n",
    "x1, x2 = readFile(\"data.csv\")\n",
    "matrix = getFrequencyCounts(x1, x2)\n",
    "plt.imshow(matrix)\n",
    "plt.show()\n"
   ]
  },
  {
   "cell_type": "code",
   "execution_count": null,
   "metadata": {
    "collapsed": true
   },
   "outputs": [],
   "source": []
  }
 ],
 "metadata": {
  "kernelspec": {
   "display_name": "Python 3",
   "language": "python",
   "name": "python3"
  },
  "language_info": {
   "codemirror_mode": {
    "name": "ipython",
    "version": 3
   },
   "file_extension": ".py",
   "mimetype": "text/x-python",
   "name": "python",
   "nbconvert_exporter": "python",
   "pygments_lexer": "ipython3",
   "version": "3.5.2"
  }
 },
 "nbformat": 4,
 "nbformat_minor": 0
}
