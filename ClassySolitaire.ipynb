{
 "cells": [
  {
   "cell_type": "code",
   "execution_count": 1,
   "metadata": {
    "collapsed": true
   },
   "outputs": [],
   "source": [
    "import random\n",
    "\n",
    "class Solitaire(object):\n",
    "    # Questions:\n",
    "    # 1) What does the __init__ function do?\n",
    "    # 2) What does __ at the beginning of a function do?\n",
    "    # 3) What does 'self' mean?\n",
    "    \n",
    "    def __init__(self):\n",
    "        self.cards = list(range(13)) * 4\n",
    "        self.winner = False\n",
    "        self.discards = []\n",
    "\n",
    "    def __shuffle(self):\n",
    "        # TASK: Complete this function\n",
    "        pass\n",
    "\n",
    "    def __deal(self):\n",
    "        self.__shuffle()\n",
    "        clockFace = {}\n",
    "        # TASK: Complete this function\n",
    "        self.clockFace = clockFace\n",
    "        \n",
    "\n",
    "\n",
    "    def play(self):\n",
    "        self.winner = False\n",
    "        self.discards = []\n",
    "        self.__deal()\n",
    "        # TASK: Complete this function\n"
   ]
  },
  {
   "cell_type": "code",
   "execution_count": 3,
   "metadata": {
    "collapsed": false
   },
   "outputs": [
    {
     "name": "stdout",
     "output_type": "stream",
     "text": [
      "False\n",
      "False\n",
      "False\n",
      "False\n",
      "False\n",
      "False\n",
      "False\n",
      "False\n",
      "False\n",
      "False\n"
     ]
    }
   ],
   "source": [
    "game = Solitaire()\n",
    "\n",
    "for i in range(10):\n",
    "    game.play()\n",
    "    print(game.winner)"
   ]
  },
  {
   "cell_type": "code",
   "execution_count": null,
   "metadata": {
    "collapsed": true
   },
   "outputs": [],
   "source": []
  }
 ],
 "metadata": {
  "kernelspec": {
   "display_name": "Python 3",
   "language": "python",
   "name": "python3"
  },
  "language_info": {
   "codemirror_mode": {
    "name": "ipython",
    "version": 3
   },
   "file_extension": ".py",
   "mimetype": "text/x-python",
   "name": "python",
   "nbconvert_exporter": "python",
   "pygments_lexer": "ipython3",
   "version": "3.5.2"
  }
 },
 "nbformat": 4,
 "nbformat_minor": 0
}
