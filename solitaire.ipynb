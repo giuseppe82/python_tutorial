{
 "cells": [
  {
   "cell_type": "markdown",
   "metadata": {},
   "source": [
    "# Clock Patience: A Game of Solitaire\n",
    "\n",
    "## Overview\n",
    "\n",
    "This is a simple, entirely deterministic solitaire game. It uses the standard 52-card deck (A, 2, ..., J, Q, K) of cards.  \n",
    "\n",
    "\n",
    "## Rules\n",
    "\n",
    "### Setup\n",
    "The cards are shuffled into random order and dealt into 13 piles of four cards each - 12 piles in the positions of the 12 hours of the day on an analogue clock; the 13th pile in the centre of the circle:\n",
    "\n",
    "![alt text](https://upload.wikimedia.org/wikipedia/commons/3/36/Clock_Solitaire.JPG \"Solitaire\")\n",
    "\n",
    "Image credit: Nanami Kamimura, https://commons.wikimedia.org/w/index.php?curid=753491\n",
    "\n",
    "### Playing the Game\n",
    "Take the top card from the 13th pile and look at its value. Place it face up next to the pile corresponding to its value. Take the top card from this pile and place it face up next to the the pile corresponding to its value. Continue to take cards and distribute them around the clock face like this until you are unable to continue.\n",
    "\n",
    "### Winning\n",
    "You win the game if you end the game with all cards face up on the table.\n",
    "\n",
    "If you run out of cards in the 13th pile before all the cards in the clockface have ended face up, you lose.\n",
    "\n",
    "\n",
    "## Task\n",
    "\n",
    "### Overview\n",
    "Your task for this part of the tutorial is to write some python functions that will enable you to simulate a game of Clock Patience -- both dealing the cards and then playing the game.\n",
    "\n",
    "The aim is to get some practice transating concepts, ideas and verbal descriptions into code.\n",
    "\n",
    "\n",
    "Some skeleton functions to help you are defined below. Try to complete them to play a game of solitaire.\n",
    "\n",
    "Specifically, you should:\n",
    "\n",
    "1. complete the **dealCards** function to set up the game.  \n",
    "2. complete the **playSolitaire** function to play the game.\n",
    "\n",
    "Once you have the code working, increase the number of iterations in the play loop to something like 1000. How many games do you win? Is this expected?\n",
    "\n",
    "### Implementation Details\n",
    "This task uses lots of the data types that were discussed in the first part of the tutorial: integers, lists and dictionaries are very useful here: The initial deck of cards is a list of integers, the clockFace is a dictionary.\n",
    "\n",
    "Implementing the solitaire game will also require using lots of the control flow concepts, like if-else conditions and loops. \n",
    "\n",
    "Look back to that part of the tutorial when you need to check how to use something. Also, remember that Google is the programmer's best friend -- if you don't know how something works, Google it!\n",
    "\n",
    "![alt text](https://lh3.googleusercontent.com/DM3gBpsw0MbWtLDmAIVvtJGMU3dcUXkUbE-4Ey5Z9HTdo85XT-tSM62EdS8twidz_-f-0J_T=s640-h400-e365 \"Googling\")\n",
    "\n"
   ]
  },
  {
   "cell_type": "markdown",
   "metadata": {},
   "source": [
    "## Why don't you pass the time with a game of solitaire?"
   ]
  },
  {
   "cell_type": "code",
   "execution_count": 18,
   "metadata": {
    "collapsed": true
   },
   "outputs": [],
   "source": [
    "# The random library allows you to do things like:\n",
    "# pick a random number\n",
    "# pick a random item from a list\n",
    "# randomize the order of items in a list\n",
    "# and lots more -- look it up!\n",
    "import random\n",
    "\n",
    "\n",
    "def dealCards(cards):\n",
    "    clockFace = {} # an empty dictionary\n",
    "    for v in range(13):\n",
    "        pass\n",
    "        # TASK: Complete this function to add cards to the clock face\n",
    "        # Clockface should end up with 13 piles of 4 cards, ready to start the game ...\n",
    "    print(clockFace)\n",
    "    return clockFace\n",
    "\n",
    "\n",
    "def setupSolitaire():\n",
    "    # Get the 52 cards into a list\n",
    "    # Note: we don't care about suit (hearts, diamonds etc)\n",
    "    cards = list(range(13)) * 4\n",
    "    print(cards) # Note that the cards are currently in value order\n",
    "    \n",
    "    # shuffle the cards using a function from the random library:\n",
    "    random.shuffle(cards)\n",
    "    \n",
    "    # use the dealCards function to set up the clock face, ready for play.\n",
    "    clockFace = dealCards(cards)\n",
    "    return clockFace\n",
    "\n",
    "\n",
    "def playSolitaire(clockFace):\n",
    "    winner = False # Did we win yet?\n",
    "    \n",
    "    # Our discard pile for seen cards\n",
    "    # Note that we never use discard cards again, so it doesn't really matter what we do with them ...\n",
    "    discards = [] \n",
    "    currentCard = None #clockFace[12].pop() \n",
    "    for i in range(52):\n",
    "        # TASK: Complete the code here to:\n",
    "        # get the next card\n",
    "        # discard currentCard\n",
    "        # check if you lost yet -- what should you do when there is no card to pick up?\n",
    "        # check if you won yet -- what is the condition for losing?\n",
    "        pass\n",
    "    return winner"
   ]
  },
  {
   "cell_type": "code",
   "execution_count": 16,
   "metadata": {
    "collapsed": false
   },
   "outputs": [
    {
     "name": "stdout",
     "output_type": "stream",
     "text": [
      "[0, 1, 2, 3, 4, 5, 6, 7, 8, 9, 10, 11, 12, 0, 1, 2, 3, 4, 5, 6, 7, 8, 9, 10, 11, 12, 0, 1, 2, 3, 4, 5, 6, 7, 8, 9, 10, 11, 12, 0, 1, 2, 3, 4, 5, 6, 7, 8, 9, 10, 11, 12]\n",
      "{}\n",
      "False\n",
      "1 0 0.0\n"
     ]
    }
   ],
   "source": [
    "# some counters to keep track of the number of games played and won\n",
    "counter = 0\n",
    "wins = 0\n",
    "\n",
    "for i in range(1):\n",
    "    counter += 1 # increment the counter for each game\n",
    "    \n",
    "    # set up the game\n",
    "    clockFace = setupSolitaire()\n",
    "    \n",
    "    # play the game\n",
    "    outcome = playSolitaire(clockFace)\n",
    "    \n",
    "    # did you win?\n",
    "    print(outcome)\n",
    "    if outcome == True:\n",
    "        wins += 1 # increment the wins counter if you win the game\n",
    "    pWin = wins / counter # fraction of games won\n",
    "\n",
    "print(counter, wins, pWin)"
   ]
  },
  {
   "cell_type": "code",
   "execution_count": null,
   "metadata": {
    "collapsed": true
   },
   "outputs": [],
   "source": []
  }
 ],
 "metadata": {
  "kernelspec": {
   "display_name": "Python 3",
   "language": "python",
   "name": "python3"
  },
  "language_info": {
   "codemirror_mode": {
    "name": "ipython",
    "version": 3
   },
   "file_extension": ".py",
   "mimetype": "text/x-python",
   "name": "python",
   "nbconvert_exporter": "python",
   "pygments_lexer": "ipython3",
   "version": "3.5.2"
  }
 },
 "nbformat": 4,
 "nbformat_minor": 0
}
