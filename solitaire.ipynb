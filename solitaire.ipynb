{
 "cells": [
  {
   "cell_type": "markdown",
   "metadata": {},
   "source": [
    "# Clock Patience: A Game of Solitaire\n",
    "\n",
    "## Overview\n",
    "\n",
    "This is a simple, entirely deterministic solitaire game. It uses the standard 52-card deck (A, 2, ..., J, Q, K) of cards.  \n",
    "\n",
    "\n",
    "## Rules\n",
    "\n",
    "### Setup\n",
    "The cards are shuffled into random order and dealt into 13 piles of four cards each - 12 piles in the positions of the 12 hours of the day on an analogue clock; the 13th pile in the centre of the circle:\n",
    "\n",
    "![alt text](https://upload.wikimedia.org/wikipedia/commons/3/36/Clock_Solitaire.JPG \"Solitaire\")\n",
    "\n",
    "Image credit: Nanami Kamimura, https://commons.wikimedia.org/w/index.php?curid=753491\n",
    "\n",
    "### Playing the Game\n",
    "Take the top card from the 13th pile and look at its value. Place it face up next to the pile corresponding to its value. Take the top card from this pile and place it face up next to the the pile corresponding to its value. Continue to take cards and distribute them around the clock face like this until you are unable to continue.\n",
    "\n",
    "### Winning\n",
    "You win the game if you end the game with all cards face up on the table.\n",
    "\n",
    "If you run out of cards in the 13th pile before all the cards in the clockface have ended face up, you lose.\n",
    "\n",
    "\n",
    "## Task\n",
    "\n",
    "Your task for this part of the tutorial is to write some python functions that will enable you to simulate a game of Clock Patience -- both dealing the cards and then playing the game.\n",
    "\n",
    "The aim is to get some practice transating concepts, ideas and verbal descriptions into code.\n",
    "\n",
    "\n",
    "Some skeleton functions to help you are defined below. Try to complete them to play a game of solitaire.\n",
    "\n",
    "Once you have the code working, increase the number of iterations in the play loop to something like 1000. How many game"
   ]
  },
  {
   "cell_type": "code",
   "execution_count": null,
   "metadata": {
    "collapsed": true
   },
   "outputs": [],
   "source": []
  }
 ],
 "metadata": {
  "kernelspec": {
   "display_name": "Python 3",
   "language": "python",
   "name": "python3"
  },
  "language_info": {
   "codemirror_mode": {
    "name": "ipython",
    "version": 3
   },
   "file_extension": ".py",
   "mimetype": "text/x-python",
   "name": "python",
   "nbconvert_exporter": "python",
   "pygments_lexer": "ipython3",
   "version": "3.5.2"
  }
 },
 "nbformat": 4,
 "nbformat_minor": 0
}
